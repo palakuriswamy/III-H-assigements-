{
  "nbformat": 4,
  "nbformat_minor": 0,
  "metadata": {
    "colab": {
      "provenance": [],
      "include_colab_link": true
    },
    "kernelspec": {
      "name": "python3",
      "display_name": "Python 3"
    },
    "language_info": {
      "name": "python"
    }
  },
  "cells": [
    {
      "cell_type": "markdown",
      "metadata": {
        "id": "view-in-github",
        "colab_type": "text"
      },
      "source": [
        "<a href=\"https://colab.research.google.com/github/palakuriswamy/III-H-assigements-/blob/main/AIML_Module_1_Lab_2_Machine_learning_terms_and_metrics.ipynb\" target=\"_parent\"><img src=\"https://colab.research.google.com/assets/colab-badge.svg\" alt=\"Open In Colab\"/></a>"
      ]
    },
    {
      "cell_type": "markdown",
      "metadata": {
        "id": "3Eu9VZbF01eq"
      },
      "source": [
        "##AIML Module 1 - Lab 2\n",
        "# Machine learning terms and metrics\n",
        "\n",
        "\n",
        " In this lab, we will show a part of the ML pipeline by extracting features, training and testing"
      ]
    },
    {
      "cell_type": "code",
      "metadata": {
        "id": "8qBvyEem0vLi"
      },
      "source": [
        "import matplotlib.pyplot as plt\n",
        "import numpy as np\n",
        "from sklearn import datasets\n",
        "# set randomseed\n",
        "rng = np.random.default_rng(seed=42)"
      ],
      "execution_count": 8,
      "outputs": []
    },
    {
      "cell_type": "markdown",
      "metadata": {
        "id": "u3t59g5s1HfC"
      },
      "source": [
        "In this lab, we will use the California Housing dataset. There are 20640 samples, each with 8 attributes like income of the block, age of the houses per district etc. The task is to predict the cost of the houses per district.\n",
        "\n",
        "Let us download and examine the dataset."
      ]
    },
    {
      "cell_type": "code",
      "metadata": {
        "id": "8LpqjN991GGJ",
        "colab": {
          "base_uri": "https://localhost:8080/"
        },
        "outputId": "6dcfec9a-0c4e-4f27-ea03-24153dd66df1"
      },
      "source": [
        " dataset =  datasets.fetch_california_housing()\n",
        " # print(dataset.DESCR)  # uncomment this if you want to know more about this dataset\n",
        " # print(dataset.keys())  # if you want to know what else is there in this dataset\n",
        " dataset.target = dataset.target.astype(np.int) # so that we can classify\n",
        " print(dataset.data.shape)\n",
        " print(dataset.target.shape)"
      ],
      "execution_count": 9,
      "outputs": [
        {
          "output_type": "stream",
          "name": "stdout",
          "text": [
            "(20640, 8)\n",
            "(20640,)\n"
          ]
        },
        {
          "output_type": "stream",
          "name": "stderr",
          "text": [
            "<ipython-input-9-60ae2e9a125e>:4: DeprecationWarning: `np.int` is a deprecated alias for the builtin `int`. To silence this warning, use `int` by itself. Doing this will not modify any behavior and is safe. When replacing `np.int`, you may wish to use e.g. `np.int64` or `np.int32` to specify the precision. If you wish to review your current use, check the release note link for additional information.\n",
            "Deprecated in NumPy 1.20; for more details and guidance: https://numpy.org/devdocs/release/1.20.0-notes.html#deprecations\n",
            "  dataset.target = dataset.target.astype(np.int) # so that we can classify\n"
          ]
        }
      ]
    },
    {
      "cell_type": "markdown",
      "metadata": {
        "id": "iNx4174W5xRg"
      },
      "source": [
        "Here is a function for calculating the 1-nearest neighbours"
      ]
    },
    {
      "cell_type": "code",
      "metadata": {
        "id": "07zpydQj1hIQ"
      },
      "source": [
        "def NN1(traindata, trainlabel, query):\n",
        "  diff  = traindata - query  # find the difference between features. Numpy automatically takes care of the size here\n",
        "  sq = diff*diff # square the differences\n",
        "  dist = sq.sum(1) # add up the squares\n",
        "  label = trainlabel[np.argmin(dist)] # our predicted label is the label of the training data which has the least distance from the query\n",
        "  return label\n",
        "\n",
        "def NN(traindata, trainlabel, testdata):\n",
        "  # we will run nearest neighbour for each sample in the test data\n",
        "  # and collect the predicted classes in an array using list comprehension\n",
        "  predlabel = np.array([NN1(traindata, trainlabel, i) for i in testdata])\n",
        "  return predlabel"
      ],
      "execution_count": 10,
      "outputs": []
    },
    {
      "cell_type": "markdown",
      "metadata": {
        "id": "03JktkfIGaje"
      },
      "source": [
        "We will also define a 'random classifier', which randomly allots labels to each sample"
      ]
    },
    {
      "cell_type": "code",
      "metadata": {
        "id": "fogWAtjyGhAH"
      },
      "source": [
        "def RandomClassifier(traindata, trainlabel, testdata):\n",
        "  # in reality, we don't need these arguments\n",
        "\n",
        "  classes = np.unique(trainlabel)\n",
        "  rints = rng.integers(low=0, high=len(classes), size=len(testdata))\n",
        "  predlabel = classes[rints]\n",
        "  return predlabel"
      ],
      "execution_count": 11,
      "outputs": []
    },
    {
      "cell_type": "markdown",
      "metadata": {
        "id": "1Hjf1KHs7fU5"
      },
      "source": [
        "Let us define a metric 'Accuracy' to see how good our learning algorithm is. Accuracy is the ratio of the number of correctly classified samples to the total number of samples. The higher the accuracy, the better the algorithm."
      ]
    },
    {
      "cell_type": "code",
      "metadata": {
        "id": "ouuCqWU07bz-"
      },
      "source": [
        "def Accuracy(gtlabel, predlabel):\n",
        "  assert len(gtlabel)==len(predlabel), \"Length of the groundtruth labels and predicted labels should be the same\"\n",
        "  correct = (gtlabel==predlabel).sum() # count the number of times the groundtruth label is equal to the predicted label.\n",
        "  return correct/len(gtlabel)"
      ],
      "execution_count": 12,
      "outputs": []
    },
    {
      "cell_type": "markdown",
      "metadata": {
        "id": "4vJFwBFa9Klw"
      },
      "source": [
        "Let us make a function to split the dataset with the desired probability."
      ]
    },
    {
      "cell_type": "code",
      "metadata": {
        "id": "Ko0VzpSM2Tdi"
      },
      "source": [
        "def split(data, label, percent):\n",
        "  # generate a random number for each sample\n",
        "  rnd = rng.random(len(label))\n",
        "  split1 = rnd<percent\n",
        "  split2 = rnd>=percent\n",
        "  split1data = data[split1,:]\n",
        "  split1label = label[split1]\n",
        "  split2data = data[split2,:]\n",
        "  split2label = label[split2]\n",
        "  return split1data, split1label, split2data, split2label"
      ],
      "execution_count": 13,
      "outputs": []
    },
    {
      "cell_type": "markdown",
      "metadata": {
        "id": "AcK3LEAJ_LGC"
      },
      "source": [
        "We will reserve 20% of our dataset as the test set. We will not change this portion throughout our experiments"
      ]
    },
    {
      "cell_type": "code",
      "metadata": {
        "id": "bBZkHBLJ1iU-",
        "colab": {
          "base_uri": "https://localhost:8080/"
        },
        "outputId": "20550584-0e0c-43b0-9e0d-bc3c87fcfe9b"
      },
      "source": [
        "testdata, testlabel, alltraindata, alltrainlabel = split(dataset.data, dataset.target, 20/100)\n",
        "print('Number of test samples = ', len(testlabel))\n",
        "print('Number of other samples = ', len(alltrainlabel))\n",
        "print('Percent of test data = ', len(testlabel)*100/len(dataset.target),'%')"
      ],
      "execution_count": 14,
      "outputs": [
        {
          "output_type": "stream",
          "name": "stdout",
          "text": [
            "Number of test samples =  4144\n",
            "Number of other samples =  16496\n",
            "Percent of test data =  20.07751937984496 %\n"
          ]
        }
      ]
    },
    {
      "cell_type": "markdown",
      "metadata": {
        "id": "a6Ss0Z6IAGNV"
      },
      "source": [
        "## Experiments with splits\n",
        "\n",
        "Let us reserve some of our train data as a validation set"
      ]
    },
    {
      "cell_type": "code",
      "metadata": {
        "id": "WFew2iry_7W7"
      },
      "source": [
        "traindata, trainlabel, valdata, vallabel = split(alltraindata, alltrainlabel, 75/100)"
      ],
      "execution_count": 15,
      "outputs": []
    },
    {
      "cell_type": "markdown",
      "metadata": {
        "id": "60hiu4clFN1i"
      },
      "source": [
        "What is the accuracy of our classifiers on the train dataset?"
      ]
    },
    {
      "cell_type": "code",
      "metadata": {
        "id": "DBlZDTHUFTZx",
        "colab": {
          "base_uri": "https://localhost:8080/"
        },
        "outputId": "80773177-83c2-4f7f-906f-f27e90091637"
      },
      "source": [
        "trainpred = NN(traindata, trainlabel, traindata)\n",
        "trainAccuracy = Accuracy(trainlabel, trainpred)\n",
        "print(\"Train accuracy using nearest neighbour is \", trainAccuracy)\n",
        "\n",
        "trainpred = RandomClassifier(traindata, trainlabel, traindata)\n",
        "trainAccuracy = Accuracy(trainlabel, trainpred)\n",
        "print(\"Train accuracy using random classifier is \", trainAccuracy)"
      ],
      "execution_count": 16,
      "outputs": [
        {
          "output_type": "stream",
          "name": "stdout",
          "text": [
            "Train accuracy using nearest neighbour is  1.0\n",
            "Train accuracy using random classifier is  0.164375808538163\n"
          ]
        }
      ]
    },
    {
      "cell_type": "markdown",
      "metadata": {
        "id": "7h08-9gJDtSy"
      },
      "source": [
        "For nearest neighbour, the train accuracy is always 1. The accuracy of the random classifier is close to 1/(number of classes) which is 0.1666 in our case.\n",
        "\n",
        "Let us predict the labels for our validation set and get the accuracy"
      ]
    },
    {
      "cell_type": "code",
      "metadata": {
        "id": "4h7bXoW_2H3v",
        "colab": {
          "base_uri": "https://localhost:8080/"
        },
        "outputId": "bf4f4915-bb46-4fed-f5ec-adcbddfc622e"
      },
      "source": [
        "valpred = NN(traindata, trainlabel, valdata)\n",
        "valAccuracy = Accuracy(vallabel, valpred)\n",
        "print(\"Validation accuracy using nearest neighbour is \", valAccuracy)\n",
        "\n",
        "valpred = RandomClassifier(traindata, trainlabel, valdata)\n",
        "valAccuracy = Accuracy(vallabel, valpred)\n",
        "print(\"Validation accuracy using random classifier is \", valAccuracy)"
      ],
      "execution_count": 17,
      "outputs": [
        {
          "output_type": "stream",
          "name": "stdout",
          "text": [
            "Validation accuracy using nearest neighbour is  0.34108527131782945\n",
            "Validation accuracy using random classifier is  0.1688468992248062\n"
          ]
        }
      ]
    },
    {
      "cell_type": "markdown",
      "metadata": {
        "id": "py9bLguFEjfg"
      },
      "source": [
        "Validation accuracy of nearest neighbour is considerably less than its train accuracy while the validation accuracy of random classifier is the same. However, the validation accuracy of nearest neighbour is twice that of the random classifier.\n",
        "\n",
        "Now let us try another random split and check the validation accuracy"
      ]
    },
    {
      "cell_type": "code",
      "metadata": {
        "id": "ujm3cyYzEntE",
        "colab": {
          "base_uri": "https://localhost:8080/"
        },
        "outputId": "f44434ab-096d-465e-d45f-1858e3d1f617"
      },
      "source": [
        "traindata, trainlabel, valdata, vallabel = split(alltraindata, alltrainlabel, 75/100)\n",
        "valpred = NN(traindata, trainlabel, valdata)\n",
        "valAccuracy = Accuracy(vallabel, valpred)\n",
        "print(\"Validation accuracy of nearest neighbour is \", valAccuracy)"
      ],
      "execution_count": 18,
      "outputs": [
        {
          "output_type": "stream",
          "name": "stdout",
          "text": [
            "Validation accuracy of nearest neighbour is  0.34048257372654156\n"
          ]
        }
      ]
    },
    {
      "cell_type": "markdown",
      "metadata": {
        "id": "oSOx7U83EKie"
      },
      "source": [
        "You can run the above cell multiple times to try with different random splits.\n",
        "We notice that the accuracy is different for each run, but close together.\n",
        "\n",
        "Now let us compare it with the accuracy we get on the test dataset."
      ]
    },
    {
      "cell_type": "code",
      "metadata": {
        "id": "PNEZ5ToYBEDW",
        "colab": {
          "base_uri": "https://localhost:8080/"
        },
        "outputId": "a4e7dd1f-a051-4dcd-c81d-d2da93671535"
      },
      "source": [
        "testpred = NN(alltraindata, alltrainlabel, testdata)\n",
        "testAccuracy = Accuracy(testlabel, testpred)\n",
        "print('Test accuracy is ', testAccuracy)"
      ],
      "execution_count": 19,
      "outputs": [
        {
          "output_type": "stream",
          "name": "stdout",
          "text": [
            "Test accuracy is  0.34917953667953666\n"
          ]
        }
      ]
    },
    {
      "cell_type": "markdown",
      "metadata": {
        "id": "w3dGD531K3gH"
      },
      "source": [
        "### Try it out for yourself and answer:\n",
        "1. How is the accuracy of the validation set affected if we increase the percentage of validation set? What happens when we reduce it?\n",
        "2. How does the size of the train and validation set affect how well we can predict the accuracy on the test set using the validation set?\n",
        "3. What do you think is a good percentage to reserve for the validation set so that thest two factors are balanced?\n",
        "\n",
        "Answer for both nearest neighbour and random classifier. You can note down the values for your experiments and plot a graph using  <a href=https://matplotlib.org/stable/gallery/lines_bars_and_markers/step_demo.html#sphx-glr-gallery-lines-bars-and-markers-step-demo-py>plt.plot<href>. Check also for extreme values for splits, like 99.9% or 0.1%"
      ]
    },
    {
      "cell_type": "markdown",
      "source": [
        "1. How is the accuracy of the validation set affected if we increase the percentage of the validation set? What happens when we reduce it?\n",
        "\n",
        "    Increasing Validation Set Percentage: When you increase the size of the validation set, you allocate more data for validation, which can lead to a more accurate estimation of model performance on unseen data. However, it reduces the amount of data available for training, which may lead to underfitting.\n",
        "\n",
        "    Example: If you initially allocate 20% of your data for validation and achieve a validation accuracy of 90%, increasing the validation set size to 30% might result in a slight drop in validation accuracy, say to 88%.\n",
        "\n",
        "    Reducing Validation Set Percentage: When you reduce the size of the validation set, you allocate more data for training, which can help the model learn better. However, it might lead to a less accurate estimation of model performance on unseen data because you're evaluating it on a smaller validation set.\n",
        "\n",
        "    Example: If you initially allocate 20% of your data for validation and achieve a validation accuracy of 90%, reducing the validation set size to 10% might result in a slightly higher validation accuracy, say 92%"
      ],
      "metadata": {
        "id": "AMroLq3d8RPF"
      }
    },
    {
      "cell_type": "markdown",
      "source": [
        "2. How does the size of the train and validation set affect how well we can predict the accuracy on the test set using the validation set?\n",
        "\n",
        "    Larger Train Set: A larger training set provides more data for the model to learn from, which can lead to better model performance. However, a smaller validation set may result in a less accurate estimate of how the model will perform on the test set because there's less data for validation.\n",
        "\n",
        "    Larger Validation Set: A larger validation set provides a more reliable estimate of model performance during training. However, if the training set is too small, the model might not generalize well, and the estimate from the validation set could be overly optimistic.\n",
        "\n",
        "Example: Imagine you have a dataset with 1000 samples. Allocating 75% for training (750 samples) and 25% for validation (250 samples) might provide a reasonable balance between training and validation. In this case, the model will have sufficient data to learn and a reasonable estimate of performance on unseen data."
      ],
      "metadata": {
        "id": "kilLU2mr9eeL"
      }
    },
    {
      "cell_type": "code",
      "source": [
        "import numpy as np\n",
        "from sklearn.model_selection import train_test_split\n",
        "from sklearn.linear_model import LogisticRegression\n",
        "from sklearn.metrics import accuracy_score\n",
        "\n",
        "X, y = np.random.rand(1000, 10), np.random.randint(0, 2, size=1000)\n",
        "X_train, X_val, y_train, y_val = train_test_split(X, y, test_size=0.2, random_state=42)\n",
        "model = LogisticRegression()\n",
        "model.fit(X_train, y_train)\n",
        "y_val_pred = model.predict(X_val)\n",
        "val_accuracy = accuracy_score(y_val, y_val_pred)\n",
        "print(f\"Validation Accuracy with 80% Training Data: {val_accuracy:.2f}\")\n"
      ],
      "metadata": {
        "id": "J2tJ2j56_n71",
        "outputId": "ca056d70-e969-46e5-d759-6f77783596d8",
        "colab": {
          "base_uri": "https://localhost:8080/"
        }
      },
      "execution_count": 20,
      "outputs": [
        {
          "output_type": "stream",
          "name": "stdout",
          "text": [
            "Validation Accuracy with 80% Training Data: 0.51\n"
          ]
        }
      ]
    },
    {
      "cell_type": "markdown",
      "source": [
        "3. What do you think is a good percentage to reserve for the validation set so that these two factors are balanced?\n",
        "\n",
        "The choice of the percentage for the validation set depends on the size of your dataset and the complexity of your model. A common rule of thumb is the 70/30 or 80/20 split for moderate-sized datasets, where 70% or 80% is used for training and the remaining 30% or 20% for validation. However, you can adjust this based on your specific scenario:\n",
        "\n",
        "    Small Dataset: If you have a small dataset, you might want to allocate a larger percentage for validation (e.g., 30% or more) to ensure a reliable estimate of performance.\n",
        "\n",
        "    Complex Model: If your model is complex and prone to overfitting, you may allocate a larger validation set to monitor its performance more closely and prevent overfitting.\n",
        "\n",
        "    Simple Model: For simpler models or large datasets, you can allocate a smaller validation set (e.g., 20%) to ensure you have enough data for training.\n",
        "\n",
        "Remember that these percentages are not set in stone and should be adjusted based on experimentation and domain knowledge. Cross-validation techniques like k-fold cross-validation can also help obtain more robust performance estimates."
      ],
      "metadata": {
        "id": "iUM_OY7d9mNv"
      }
    },
    {
      "cell_type": "code",
      "source": [
        "import numpy as np\n",
        "from sklearn.model_selection import train_test_split\n",
        "\n",
        "X, y = np.random.rand(1000, 10), np.random.randint(0, 2, size=1000)\n",
        "X_train, X_val, y_train, y_val = train_test_split(X, y, test_size=0.3, random_state=42)\n",
        "print(f\"Training set size: {len(X_train)} samples\")\n",
        "print(f\"Validation set size: {len(X_val)} samples\")\n"
      ],
      "metadata": {
        "id": "PHlPJzFoQZ6G",
        "outputId": "bf3b6eae-267b-4584-f5b2-4a969b1db6d9",
        "colab": {
          "base_uri": "https://localhost:8080/"
        }
      },
      "execution_count": 27,
      "outputs": [
        {
          "output_type": "stream",
          "name": "stdout",
          "text": [
            "Training set size: 700 samples\n",
            "Validation set size: 300 samples\n"
          ]
        }
      ]
    },
    {
      "cell_type": "markdown",
      "metadata": {
        "id": "PnYvkAZLQY7h"
      },
      "source": [
        "## Multiple Splits\n",
        "\n",
        "One way to get more accurate estimates for the test accuracy is by using <b>crossvalidation</b>. Here, we will try a simple version, where we do multiple train/val splits and take the average of validation accuracies as the test accuracy estimation. Here is a function for doing this. Note that this function will take a long time to execute."
      ]
    },
    {
      "cell_type": "code",
      "metadata": {
        "id": "E4nGCUQXBTzo"
      },
      "source": [
        "# you can use this function for random classifier also\n",
        "def AverageAccuracy(alldata, alllabel, splitpercent, iterations, classifier=NN):\n",
        "  accuracy = 0\n",
        "  for ii in range(iterations):\n",
        "    traindata, trainlabel, valdata, vallabel = split(alldata, alllabel, splitpercent)\n",
        "    valpred = classifier(traindata, trainlabel, valdata)\n",
        "    accuracy += Accuracy(vallabel, valpred)\n",
        "  return accuracy/iterations # average of all accuracies"
      ],
      "execution_count": 21,
      "outputs": []
    },
    {
      "cell_type": "code",
      "metadata": {
        "id": "H3qtNar7Bbik",
        "colab": {
          "base_uri": "https://localhost:8080/"
        },
        "outputId": "2f17f046-0644-481d-a9e2-612ce949ae41"
      },
      "source": [
        "print('Average validation accuracy is ', AverageAccuracy(alltraindata, alltrainlabel, 75/100, 10, classifier=NN))\n",
        "testpred = NN(alltraindata, alltrainlabel, testdata)\n",
        "print('test accuracy is ',Accuracy(testlabel, testpred) )"
      ],
      "execution_count": 22,
      "outputs": [
        {
          "output_type": "stream",
          "name": "stdout",
          "text": [
            "Average validation accuracy is  0.33584635395170215\n",
            "test accuracy is  0.34917953667953666\n"
          ]
        }
      ]
    },
    {
      "cell_type": "markdown",
      "metadata": {
        "id": "33GIn4x5VH-d"
      },
      "source": [
        "This is a very simple way of doing cross-validation. There are many well-known algorithms for cross-validation, like k-fold cross-validation, leave-one-out etc. This will be covered in detail in a later module. For more information about cross-validation, check <a href=https://en.wikipedia.org/wiki/Cross-validation_(statistics)>Cross-validatioin (Wikipedia)</a>\n",
        "\n",
        "### Questions\n",
        "1. Does averaging the validation accuracy across multiple splits give more consistent results?\n",
        "2. Does it give more accurate estimate of test accuracy?\n",
        "3. What is the effect of the number of iterations on the estimate? Do we get a better estimate with higher iterations?\n",
        "4. Consider the results you got for the previous questions. Can we deal with a very small train dataset or validation dataset by increasing the iterations?\n"
      ]
    },
    {
      "cell_type": "markdown",
      "source": [
        "1.Does averaging the validation accuracy across multiple splits give more consistent results?\n",
        "\n",
        "  Yes, averaging validation accuracy across multiple splits provides more consistent results. By doing multiple splits and averaging, you reduce the impact of the randomness in a single split. This helps to obtain a more stable estimate of your model's performance.\n",
        "\n",
        "  example: Imagine you have a coin, and you want to know how likely it is to land heads when you flip it. You decide to flip the coin multiple times to get a more accurate estimate."
      ],
      "metadata": {
        "id": "yA4d3pABJu8n"
      }
    },
    {
      "cell_type": "code",
      "source": [
        "import random\n",
        "\n",
        "def flip_coin():\n",
        "    return random.randint(0, 1)\n",
        "\n",
        "num_flips = 10\n",
        "num_experiments = 5\n",
        "experiment_results = []\n",
        "\n",
        "for _ in range(num_experiments):\n",
        "    flips = [flip_coin() for _ in range(num_flips)]\n",
        "    head_percentage = sum(flips) / num_flips * 100\n",
        "    experiment_results.append(head_percentage)\n",
        "\n",
        "average_head_percentage = sum(experiment_results) / num_experiments\n",
        "print(f\"Average Percentage of Heads Across {num_experiments} Experiments: {average_head_percentage:.2f}%\")\n"
      ],
      "metadata": {
        "id": "deC1vIJLLQmL",
        "outputId": "eb09db9a-a90e-4f48-c88e-9ae184944c1d",
        "colab": {
          "base_uri": "https://localhost:8080/"
        }
      },
      "execution_count": 23,
      "outputs": [
        {
          "output_type": "stream",
          "name": "stdout",
          "text": [
            "Average Percentage of Heads Across 5 Experiments: 48.00%\n"
          ]
        }
      ]
    },
    {
      "cell_type": "markdown",
      "source": [
        "2.Does it give a more accurate estimate of test accuracy?\n",
        "\n",
        "  Averaging the validation accuracy across multiple splits provides a more accurate estimate of test accuracy compared to a single split. It provides a better representation of how well your model is likely to perform on unseen data because it considers various combinations of training and validation sets."
      ],
      "metadata": {
        "id": "8GsOB_CULll5"
      }
    },
    {
      "cell_type": "code",
      "source": [
        "import random\n",
        "\n",
        "split1_accuracy = random.uniform(0.7, 0.9)\n",
        "split2_accuracy = random.uniform(0.6, 0.8)\n",
        "split3_accuracy = random.uniform(0.65, 0.85)\n",
        "\n",
        "average_validation_accuracy = (split1_accuracy + split2_accuracy + split3_accuracy) / 3\n",
        "\n",
        "print(f\"Validation Accuracy (Split 1): {split1_accuracy:.2f}\")\n",
        "print(f\"Validation Accuracy (Split 2): {split2_accuracy:.2f}\")\n",
        "print(f\"Validation Accuracy (Split 3): {split3_accuracy:.2f}\")\n",
        "print(f\"Average Validation Accuracy: {average_validation_accuracy:.2f}\")\n"
      ],
      "metadata": {
        "id": "iLpbYb25M2i7",
        "outputId": "da184983-b48f-452a-8f8a-74eeb99d0834",
        "colab": {
          "base_uri": "https://localhost:8080/"
        }
      },
      "execution_count": 24,
      "outputs": [
        {
          "output_type": "stream",
          "name": "stdout",
          "text": [
            "Validation Accuracy (Split 1): 0.90\n",
            "Validation Accuracy (Split 2): 0.62\n",
            "Validation Accuracy (Split 3): 0.65\n",
            "Average Validation Accuracy: 0.72\n"
          ]
        }
      ]
    },
    {
      "cell_type": "markdown",
      "source": [
        "3.What is the effect of the number of iterations on the estimate? Do we get a better estimate with higher iterations?\n",
        "\n",
        "  Increasing the number of iterations generally leads to a better estimate of test accuracy. With more iterations, you sample from a wider range of possible training and validation sets, which improves the robustness of your estimate. However, there may be diminishing returns, and the improvement in accuracy may become less significant as the number of iterations increases."
      ],
      "metadata": {
        "id": "MX7rUXBHM86m"
      }
    },
    {
      "cell_type": "code",
      "source": [
        "import random\n",
        "\n",
        "def estimate_accuracy(num_iterations):\n",
        "    average_validation_accuracy = sum(random.uniform(0.7, 0.9) for _ in range(num_iterations)) / num_iterations\n",
        "    return average_validation_accuracy\n",
        "\n",
        "num_iterations_list = [10, 50, 100, 500, 1000]\n",
        "\n",
        "for num_iterations in num_iterations_list:\n",
        "    avg_accuracy = estimate_accuracy(num_iterations)\n",
        "    print(f\"Avg Accuracy (Iterations={num_iterations}): {avg_accuracy:.2f}\")\n"
      ],
      "metadata": {
        "id": "yaii-NipNi8x",
        "outputId": "15a40805-88a7-4831-dfcb-ea9033d9fc5c",
        "colab": {
          "base_uri": "https://localhost:8080/"
        }
      },
      "execution_count": 25,
      "outputs": [
        {
          "output_type": "stream",
          "name": "stdout",
          "text": [
            "Avg Accuracy (Iterations=10): 0.81\n",
            "Avg Accuracy (Iterations=50): 0.79\n",
            "Avg Accuracy (Iterations=100): 0.79\n",
            "Avg Accuracy (Iterations=500): 0.80\n",
            "Avg Accuracy (Iterations=1000): 0.80\n"
          ]
        }
      ]
    },
    {
      "cell_type": "markdown",
      "source": [
        "4.Consider the results you got for the previous questions. Can we deal with a very small train dataset or validation dataset by increasing the iterations?\n",
        "\n",
        "  Increasing the number of iterations can help mitigate the impact of a small training or validation dataset to some extent. It allows you to explore different combinations of data splits, potentially uncovering patterns that may not be apparent in a single split. However, there are limits to how much increasing iterations can compensate for a very small dataset. If your dataset is extremely small, it's generally advisable to try to obtain more data if possible, as increasing iterations can be computationally expensive"
      ],
      "metadata": {
        "id": "XuWjRVKUOlQa"
      }
    },
    {
      "cell_type": "code",
      "source": [
        "import random\n",
        "\n",
        "def estimate_accuracy(num_iterations, train_dataset_size):\n",
        "    validation_accuracies = [random.uniform(0.7, 0.9) for _ in range(num_iterations)]\n",
        "    avg_accuracy = sum(validation_accuracies) / num_iterations\n",
        "    adjusted_accuracy = avg_accuracy * (train_dataset_size / 1000)\n",
        "    return avg_accuracy, adjusted_accuracy\n",
        "\n",
        "train_dataset_size = 100\n",
        "num_iterations_list = [10, 50, 100, 500, 1000]\n",
        "\n",
        "for num_iterations in num_iterations_list:\n",
        "    avg_acc, adj_acc = estimate_accuracy(num_iterations, train_dataset_size)\n",
        "    print(f\"Avg Accuracy (Iterations={num_iterations}): {avg_acc:.2f}, Adjusted Accuracy: {adj_acc:.2f}\")\n"
      ],
      "metadata": {
        "id": "txvsD1tpP3Tu",
        "outputId": "aa1fcd3d-2a4f-4511-a2c8-2a91f5d98ea8",
        "colab": {
          "base_uri": "https://localhost:8080/"
        }
      },
      "execution_count": 26,
      "outputs": [
        {
          "output_type": "stream",
          "name": "stdout",
          "text": [
            "Avg Accuracy (Iterations=10): 0.81, Adjusted Accuracy: 0.08\n",
            "Avg Accuracy (Iterations=50): 0.79, Adjusted Accuracy: 0.08\n",
            "Avg Accuracy (Iterations=100): 0.79, Adjusted Accuracy: 0.08\n",
            "Avg Accuracy (Iterations=500): 0.80, Adjusted Accuracy: 0.08\n",
            "Avg Accuracy (Iterations=1000): 0.80, Adjusted Accuracy: 0.08\n"
          ]
        }
      ]
    }
  ]
}