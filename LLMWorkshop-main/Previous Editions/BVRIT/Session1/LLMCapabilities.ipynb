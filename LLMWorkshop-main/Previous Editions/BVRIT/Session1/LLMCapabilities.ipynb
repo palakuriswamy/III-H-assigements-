{
  "nbformat": 4,
  "nbformat_minor": 0,
  "metadata": {
    "colab": {
      "provenance": []
    },
    "kernelspec": {
      "name": "python3",
      "display_name": "Python 3"
    },
    "language_info": {
      "name": "python"
    }
  },
  "cells": [
    {
      "cell_type": "markdown",
      "source": [
        "##Perplexity Link: https://labs.perplexity.ai/"
      ],
      "metadata": {
        "id": "zDcUt5r-gMKg"
      }
    },
    {
      "cell_type": "markdown",
      "source": [
        "Broad tasks in NLP\n",
        "\n",
        "classification\n",
        "\n",
        "seq2seq\n",
        "open ended, close ended\n"
      ],
      "metadata": {
        "id": "9oHLyJsB4Fib"
      }
    },
    {
      "cell_type": "markdown",
      "source": [
        "### Sentiment -\n",
        "\n",
        "- Analyze the sentiment of the following text: \"I just got a promotion at work, and I couldn't be happier!\"\n",
        "- Evaluate the sentiment in the following statement: \"Unfortunately, my car broke down on the way to the important meeting.\"\n",
        "- Determine the sentiment expressed in this text: \"The weather is perfect, and I'm enjoying a relaxing day at the beach.\"\n",
        "- Assess the sentiment in the following sentence: \"Dealing with this never-ending traffic jam is incredibly frustrating.\"\n",
        "- Analyze the sentiment of the given text: \"Attending my best friend's wedding was such a joyous occasion.\"\n",
        "\n"
      ],
      "metadata": {
        "id": "GCH5-fDwgxZu"
      }
    },
    {
      "cell_type": "markdown",
      "source": [
        "I see a person when I look into a clean floor. I see the same person when I look into a puddle of water. The same person can be seen in the photo albums of my family. I see that person often staring at me behind the glass door at my office. Who is this person stalking me?\n"
      ],
      "metadata": {
        "id": "5TZ31-EQg01Y"
      }
    },
    {
      "cell_type": "markdown",
      "source": [
        "### Translation -\n",
        "\n",
        "- Translate the English sentence \"How are you?\" into Hindi.\n",
        "- Convert the Hindi phrase \"मेरा नाम जॉन है\" into English.\n",
        "- Translate the Telugu sentence \"మీరు ఎలా ఉన్నారు?\" into Hindi.\n",
        "- Convert the English question \"What is your favorite color?\" into Telugu.\n",
        "- Translate the English phrase \"Hello, how are you?\" into Spanish.\n",
        "- Convert the sentence \"Je suis très content de te voir\" from French to English.\n",
        "- Translate the German sentence \"Ich liebe es, neue Sprachen zu lernen\" into English.\n",
        "- Provide the English translation for the Italian phrase \"Grazie mille per il tuo aiuto.\"\n",
        "- Convert the Japanese statement \"おはようございます\" into English."
      ],
      "metadata": {
        "id": "OkGMhnHXgytf"
      }
    },
    {
      "cell_type": "markdown",
      "source": [
        "### Summarization -\n",
        "\n",
        "- Summarize the following paragraph about climate change: \"Climate change, driven by human activities such as the burning of fossil fuels and deforestation, is causing global temperatures to rise. This warming is leading to more frequent and severe weather events, including heatwaves, storms, and droughts. The impacts of climate change are not only environmental but also affect human health, agriculture, and ecosystems. Mitigating climate change requires collective efforts to reduce greenhouse gas emissions and transition to sustainable practices.\"\n",
        "- Summarize the paragraph discussing the impact of artificial intelligence on employment: \"As artificial intelligence continues to advance, concerns about its impact on employment are growing. While AI has the potential to enhance productivity and create new job opportunities, it also poses the risk of job displacement as automation replaces certain tasks. To address this challenge, there is a need for upskilling the workforce, investing in education, and designing policies that ensure a smooth transition in the labor market.\"\n",
        "- Summarize the complex paragraph on the history of quantum mechanics: \"Quantum mechanics, developed in the early 20th century, revolutionized our understanding of the microscopic world. Pioneered by physicists like Max Planck and Albert Einstein, it introduced the concept of quantized energy levels and wave-particle duality. The Schrödinger equation became a cornerstone, describing the evolution of quantum states. Quantum mechanics has led to technological advancements, such as the development of transistors and lasers, and remains a fundamental theory in modern physics.\"\n"
      ],
      "metadata": {
        "id": "BFjxsxeLg_tC"
      }
    },
    {
      "cell_type": "markdown",
      "source": [
        "### Story Generation -\n",
        "\n",
        "- Create a short story set in a world where dreams have the power to alter reality.\n",
        "- Craft a story about a scientist who invents a device that allows communication with animals.\n",
        "- Write a story about a futuristic society where memories can be bought and sold.\n",
        "- Create a story about a hidden underwater city where mythical creatures coexist with humans."
      ],
      "metadata": {
        "id": "x_txKHoNhDOx"
      }
    },
    {
      "cell_type": "markdown",
      "source": [
        "### Poem Generation -\n",
        "\n",
        "- Write a poem about the beauty and mystery of the night sky.\n",
        "- Craft a poem about the resilience of nature in the face of adversity.\n",
        "- Create a poem capturing the magic of a forgotten forest.\n"
      ],
      "metadata": {
        "id": "Z_kQeJWmhGYR"
      }
    },
    {
      "cell_type": "markdown",
      "source": [
        "### Programming Code generation -\n",
        "\n",
        "- Use GitHub copilot to generate code for making a transformer.\n",
        "- Use GitHub copilot to create a HTML website\n",
        "- Use GitHub copilot to generate python code for interacting with chatGPT API service - **can be in-class activity**"
      ],
      "metadata": {
        "id": "QRu4HGzVhJ_z"
      }
    },
    {
      "cell_type": "markdown",
      "source": [
        "## In-class activity"
      ],
      "metadata": {
        "id": "89aApsNghLAF"
      }
    }
  ]
}