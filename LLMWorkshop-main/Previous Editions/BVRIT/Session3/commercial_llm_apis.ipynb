{
  "nbformat": 4,
  "nbformat_minor": 0,
  "metadata": {
    "colab": {
      "provenance": []
    },
    "kernelspec": {
      "name": "python3",
      "display_name": "Python 3"
    },
    "language_info": {
      "name": "python"
    }
  },
  "cells": [
    {
      "cell_type": "markdown",
      "source": [
        "# Leveraging comercially available LLM APIs.\n",
        "\n",
        "---\n",
        "You must be already familiar with Web-based UIs for interacting with LLMs - ChatGPT, BARD being few of them.\n",
        "\n",
        "But if you are building apps or tools that leverage such LLMs you would need to interact with them using code.\n",
        "\n",
        "In this notebook we will interact with commercially available LLM APIs, and try to carry out tasks like\n",
        "- Classification\n",
        "- Summarization\n",
        "- Simple Generation\n",
        "\n",
        "We will be using [Cohere](https://cohere.com/) APIs. Lets go!\n",
        "\n",
        "[Source/Reference: Cohere Docs](https://docs.cohere.com/reference/intent-recognition)\n",
        "\n",
        "---\n",
        "\n"
      ],
      "metadata": {
        "id": "CehDPwHkOmTM"
      }
    },
    {
      "cell_type": "code",
      "execution_count": 1,
      "metadata": {
        "id": "_H2Whdrtlndl",
        "colab": {
          "base_uri": "https://localhost:8080/"
        },
        "outputId": "3ce29d06-3257-47e9-ede9-0fe4c0b266fa"
      },
      "outputs": [
        {
          "output_type": "stream",
          "name": "stdout",
          "text": [
            "Collecting cohere\n",
            "  Downloading cohere-4.51-py3-none-any.whl (52 kB)\n",
            "\u001b[?25l     \u001b[90m━━━━━━━━━━━━━━━━━━━━━━━━━━━━━━━━━━━━━━━━\u001b[0m \u001b[32m0.0/52.0 kB\u001b[0m \u001b[31m?\u001b[0m eta \u001b[36m-:--:--\u001b[0m\r\u001b[2K     \u001b[90m━━━━━━━━━━━━━━━━━━━━━━━━━━━━━━━━━━━━━━━━\u001b[0m \u001b[32m52.0/52.0 kB\u001b[0m \u001b[31m1.8 MB/s\u001b[0m eta \u001b[36m0:00:00\u001b[0m\n",
            "\u001b[?25hRequirement already satisfied: aiohttp<4.0,>=3.0 in /usr/local/lib/python3.10/dist-packages (from cohere) (3.9.3)\n",
            "Collecting backoff<3.0,>=2.0 (from cohere)\n",
            "  Downloading backoff-2.2.1-py3-none-any.whl (15 kB)\n",
            "Collecting fastavro<2.0,>=1.8 (from cohere)\n",
            "  Downloading fastavro-1.9.4-cp310-cp310-manylinux_2_17_x86_64.manylinux2014_x86_64.whl (3.1 MB)\n",
            "\u001b[2K     \u001b[90m━━━━━━━━━━━━━━━━━━━━━━━━━━━━━━━━━━━━━━━━\u001b[0m \u001b[32m3.1/3.1 MB\u001b[0m \u001b[31m28.0 MB/s\u001b[0m eta \u001b[36m0:00:00\u001b[0m\n",
            "\u001b[?25hCollecting importlib_metadata<7.0,>=6.0 (from cohere)\n",
            "  Downloading importlib_metadata-6.11.0-py3-none-any.whl (23 kB)\n",
            "Requirement already satisfied: requests<3.0.0,>=2.25.0 in /usr/local/lib/python3.10/dist-packages (from cohere) (2.31.0)\n",
            "Requirement already satisfied: urllib3<3,>=1.26 in /usr/local/lib/python3.10/dist-packages (from cohere) (2.0.7)\n",
            "Requirement already satisfied: aiosignal>=1.1.2 in /usr/local/lib/python3.10/dist-packages (from aiohttp<4.0,>=3.0->cohere) (1.3.1)\n",
            "Requirement already satisfied: attrs>=17.3.0 in /usr/local/lib/python3.10/dist-packages (from aiohttp<4.0,>=3.0->cohere) (23.2.0)\n",
            "Requirement already satisfied: frozenlist>=1.1.1 in /usr/local/lib/python3.10/dist-packages (from aiohttp<4.0,>=3.0->cohere) (1.4.1)\n",
            "Requirement already satisfied: multidict<7.0,>=4.5 in /usr/local/lib/python3.10/dist-packages (from aiohttp<4.0,>=3.0->cohere) (6.0.5)\n",
            "Requirement already satisfied: yarl<2.0,>=1.0 in /usr/local/lib/python3.10/dist-packages (from aiohttp<4.0,>=3.0->cohere) (1.9.4)\n",
            "Requirement already satisfied: async-timeout<5.0,>=4.0 in /usr/local/lib/python3.10/dist-packages (from aiohttp<4.0,>=3.0->cohere) (4.0.3)\n",
            "Requirement already satisfied: zipp>=0.5 in /usr/local/lib/python3.10/dist-packages (from importlib_metadata<7.0,>=6.0->cohere) (3.17.0)\n",
            "Requirement already satisfied: charset-normalizer<4,>=2 in /usr/local/lib/python3.10/dist-packages (from requests<3.0.0,>=2.25.0->cohere) (3.3.2)\n",
            "Requirement already satisfied: idna<4,>=2.5 in /usr/local/lib/python3.10/dist-packages (from requests<3.0.0,>=2.25.0->cohere) (3.6)\n",
            "Requirement already satisfied: certifi>=2017.4.17 in /usr/local/lib/python3.10/dist-packages (from requests<3.0.0,>=2.25.0->cohere) (2024.2.2)\n",
            "Installing collected packages: importlib_metadata, fastavro, backoff, cohere\n",
            "  Attempting uninstall: importlib_metadata\n",
            "    Found existing installation: importlib-metadata 7.0.1\n",
            "    Uninstalling importlib-metadata-7.0.1:\n",
            "      Successfully uninstalled importlib-metadata-7.0.1\n",
            "Successfully installed backoff-2.2.1 cohere-4.51 fastavro-1.9.4 importlib_metadata-6.11.0\n"
          ]
        }
      ],
      "source": [
        "!pip install cohere"
      ]
    },
    {
      "cell_type": "code",
      "source": [
        "from getpass import getpass\n",
        "api_key = getpass('Enter the secret value: ')"
      ],
      "metadata": {
        "id": "hgbiRX_IoPnz",
        "colab": {
          "base_uri": "https://localhost:8080/"
        },
        "outputId": "814a44ae-6971-4091-ee8c-429f459c7c47"
      },
      "execution_count": 2,
      "outputs": [
        {
          "name": "stdout",
          "output_type": "stream",
          "text": [
            "Enter the secret value: ··········\n"
          ]
        }
      ]
    },
    {
      "cell_type": "markdown",
      "source": [
        "## Intent Classification\n",
        "\n",
        "- classifying the intent of customer inquiries on an eCommerce website into Shipping and handling policy, Start return or exchange, or Track order.\n",
        "\n",
        "\n",
        "- https://api.cohere.ai/v1/classify uses a few examples to create a classifier from a generative model .In the background, it constructs a few-shot classification prompt and uses it classify the input texts you pass to it.\n",
        "\n",
        "\n"
      ],
      "metadata": {
        "id": "ddnw4Xe_mOVv"
      }
    },
    {
      "cell_type": "code",
      "source": [
        "import cohere\n",
        "from cohere.responses.classify import Example\n",
        "\n",
        "co = cohere.Client(api_key)\n",
        "\n",
        "\n",
        "\n",
        "'''\n",
        "Training examples we give the model to show the classes we want it to classify\n",
        "Each example contains the text itself and the corresponding label, or class. The minimum number of examples required is five per class.\n",
        "'''\n",
        "examples=[\n",
        "  Example(\"Do you offer same day shipping?\", \"Shipping and handling policy\"),\n",
        "  Example(\"Can you ship to Italy?\", \"Shipping and handling policy\"),\n",
        "  Example(\"How long does shipping take?\", \"Shipping and handling policy\"),\n",
        "  Example(\"Can I buy online and pick up in store?\", \"Shipping and handling policy\"),\n",
        "  Example(\"What are your shipping options?\", \"Shipping and handling policy\"),\n",
        "  Example(\"My order arrived damaged, can I get a refund?\", \"Start return or exchange\"),\n",
        "  Example(\"You sent me the wrong item\", \"Start return or exchange\"),\n",
        "  Example(\"I want to exchange my item for another colour\", \"Start return or exchange\"),\n",
        "  Example(\"I ordered something and it wasn't what I expected. Can I return it?\", \"Start return or exchange\"),\n",
        "  Example(\"What's your return policy?\", \"Start return or exchange\"),\n",
        "  Example(\"Where's my package?\", \"Track order\"),\n",
        "  Example(\"When will my order arrive?\", \"Track order\"),\n",
        "  Example(\"What's my shipping number?\", \"Track order\"),\n",
        "  Example(\"Which carrier is my package with?\", \"Track order\"),\n",
        "  Example(\"Is my package delayed?\", \"Track order\"),\n",
        "]\n",
        "inputs=[\n",
        "  \"Am I still able to return my order?\",\n",
        "  \"When can I expect my package?\",\n",
        "  \"Do you ship overseas?\",\n",
        "]\n",
        "\n",
        "response = co.classify(\n",
        "  inputs=inputs,\n",
        "  examples=examples,\n",
        ")\n",
        "print(response)"
      ],
      "metadata": {
        "id": "zz75UdkymCWm",
        "colab": {
          "base_uri": "https://localhost:8080/"
        },
        "outputId": "b19fafcb-c37c-4a1e-ebef-39f39a9a5433"
      },
      "execution_count": 3,
      "outputs": [
        {
          "output_type": "stream",
          "name": "stdout",
          "text": [
            "[Classification<prediction: \"Start return or exchange\", confidence: 0.9933396, labels: {'Shipping and handling policy': LabelPrediction(confidence=0.0027134062), 'Start return or exchange': LabelPrediction(confidence=0.9933396), 'Track order': LabelPrediction(confidence=0.003947017)}>, Classification<prediction: \"Track order\", confidence: 0.9955387, labels: {'Shipping and handling policy': LabelPrediction(confidence=0.0040009124), 'Start return or exchange': LabelPrediction(confidence=0.00046039946), 'Track order': LabelPrediction(confidence=0.9955387)}>, Classification<prediction: \"Shipping and handling policy\", confidence: 0.999675, labels: {'Shipping and handling policy': LabelPrediction(confidence=0.999675), 'Start return or exchange': LabelPrediction(confidence=0.00027763066), 'Track order': LabelPrediction(confidence=4.7405712e-05)}>]\n"
          ]
        }
      ]
    },
    {
      "cell_type": "markdown",
      "source": [
        "## Summarization\n",
        "\n",
        "[Summarize API Doc](https://docs.cohere.com/reference/summarize-2)"
      ],
      "metadata": {
        "id": "af63GKFmPyEv"
      }
    },
    {
      "cell_type": "code",
      "source": [
        "import cohere\n",
        "co = cohere.Client(api_key) # This is your trial API key\n",
        "\n",
        "response = co.summarize(\n",
        "text='''Passage: Is Wordle getting tougher to solve? Players seem to be convinced that the game has gotten harder in recent weeks ever since \\\n",
        "The New York Times bought it from developer Josh Wardle in late January. The Times has come forward and shared that this likely isn’t the case. \\\n",
        "That said, the NYT did mess with the back end code a bit, removing some offensive and sexual language, as well as some obscure words There is \\\n",
        "a viral thread claiming that a confirmation bias was at play. One Twitter user went so far as to claim the game has gone to “the dusty section \\\n",
        "of the dictionary” to find its latest words.\n",
        "TLDR: Wordle has not gotten more difficult to solve.\n",
        "\n",
        "--\n",
        "\n",
        "Passage: ArtificialIvan, a seven-year-old, London-based payment and expense management software company, has raised $190 million in Series C \\\n",
        "funding led by ARG Global, with participation from D9 Capital Group and Boulder Capital. Earlier backers also joined the round, including \\\n",
        "Hilton Group, Roxanne Capital, Paved Roads Ventures, Brook Partners, and Plato Capital.\n",
        "TLDR: ArtificialIvan has raised $190 million in Series C funding.\n",
        "\n",
        "--\n",
        "\n",
        "Passage: The National Weather Service announced Tuesday that a freeze warning is in effect for the Bay Area, with freezing temperatures expected \\\n",
        "in these areas overnight. Temperatures could fall into the mid-20s to low 30s in some areas. In anticipation of the hard freeze, the weather \\\n",
        "service warns people to take action now.\n",
        "TLDR:''',\n",
        "length='auto',\n",
        "format='auto',\n",
        "model='command',\n",
        "additional_command='',\n",
        "temperature=0.8,\n",
        ")\n",
        "\n",
        "print('Summary:', response.summary)"
      ],
      "metadata": {
        "id": "US1sAXaEnXRX",
        "colab": {
          "base_uri": "https://localhost:8080/"
        },
        "outputId": "5752c75d-ca89-43ab-fa9c-656e802956ee"
      },
      "execution_count": 4,
      "outputs": [
        {
          "output_type": "stream",
          "name": "stdout",
          "text": [
            "Summary: The National Weather Service has issued a freeze warning for the Bay Area because temperatures are expected to fall into the mid-20s and low 30s. People in the area have been advised to take action in anticipation of the hard freeze.\n"
          ]
        }
      ]
    },
    {
      "cell_type": "markdown",
      "source": [
        "## Simple Generation\n",
        "\n",
        "[Generate API Doc](https://docs.cohere.com/reference/generate)"
      ],
      "metadata": {
        "id": "DTefh3lURRZP"
      }
    },
    {
      "cell_type": "code",
      "source": [
        "import cohere\n",
        "co = cohere.Client('4sa6zTNVa8RZGdWzBdhUWexlk74CzRAJjHDO4rAK') # This is your trial API key\n",
        "response = co.generate(\n",
        "  model='command',\n",
        "  prompt='''Write a LinkedIn post about how exciting it was to conduct a day long workshop on Large Langauge Models in an Engineering college named XYZ, \\\n",
        "  while stressing on how interactive and curious the students were, and how helpful the Institution was to facilitate it..''',\n",
        "  max_tokens=300,\n",
        "  temperature=0.9,\n",
        "  k=0,\n",
        "  stop_sequences=[],\n",
        "  return_likelihoods='NONE')\n",
        "print('Prediction: {}'.format(response.generations[0].text))"
      ],
      "metadata": {
        "id": "eA_IVPQ1ujvq",
        "colab": {
          "base_uri": "https://localhost:8080/"
        },
        "outputId": "c93c911f-4fbb-4ded-8b59-2feb03cb2bde"
      },
      "execution_count": 5,
      "outputs": [
        {
          "output_type": "stream",
          "name": "stdout",
          "text": [
            "Prediction:  It was a fulfilling experience to conduct a day-long workshop on Large Langauge Models at the prestigious engineering college, XYZ. The students' enthusiasm and curiosity about this cutting-edge technology in AI were commendable. They actively participated in hands-on exercises and practical sessions, where they trained models and understood the intricacies of responsible AI development. \n",
            "\n",
            "The entire event was a success, thanks to the college's support and coordination. They ensured seamless logistics and provided us with a well-equipped venue and technical support, creating an ideal environment for knowledge-sharing and brainstorming. \n",
            "\n",
            "We are grateful for the opportunity to share our expertise in LLMs and look forward to conducting more such interactive sessions to empower students with the latest technological advancements. \n",
            "\n",
            "#ArtificialIntelligence #LargeLangaugeModels #Education #Collaboration #FulfillingExperience \n"
          ]
        }
      ]
    }
  ]
}