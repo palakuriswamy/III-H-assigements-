{
  "nbformat": 4,
  "nbformat_minor": 0,
  "metadata": {
    "colab": {
      "provenance": [],
      "collapsed_sections": [
        "OqpKuSJq1uDV",
        "K8XpebT63S44",
        "itZOp3n53dL3",
        "h1si8ERs3nUs",
        "8au3eG6P34fr",
        "kV0AKk-yHi32",
        "rrHFhqvF68bc",
        "gN5h2b-8-g_B",
        "07EJe2QoMTUx",
        "oq4h5Sj-d__N"
      ]
    },
    "kernelspec": {
      "name": "python3",
      "display_name": "Python 3"
    },
    "language_info": {
      "name": "python"
    }
  },
  "cells": [
    {
      "cell_type": "markdown",
      "source": [
        "Perplexity: https://labs.perplexity.ai/\n",
        "\n",
        "Google Gemini: https://gemini.google.com/app\n",
        "\n",
        "ChatGPT: https://chat.openai.com\n",
        "\n",
        "Hugging Chat: https://huggingface.co/chat/"
      ],
      "metadata": {
        "id": "JKwTuu121Ila"
      }
    },
    {
      "cell_type": "markdown",
      "source": [
        "## Broad tasks in NLP (text)\n",
        "\n",
        "*   Text Classification\n",
        "*   Text Generation\n",
        "    * Closed ended\n",
        "    * Open ended\n",
        "\n"
      ],
      "metadata": {
        "id": "OqpKuSJq1uDV"
      }
    },
    {
      "cell_type": "markdown",
      "source": [
        "### Check your knowledge\n",
        "\n",
        "* Given a sentence predict whether it contains Hatespeech or not.\n",
        "* Given a sentence generate POS tags for each word.\n",
        "* Extract keywords from the given news article.\n",
        "* Give an answer to a healthcare query.\n",
        "* Given a story of a movie till interval, predict which character will win in the second half.\n",
        "    * Explain how the character will win."
      ],
      "metadata": {
        "id": "AD9kbD_72DNo"
      }
    },
    {
      "cell_type": "markdown",
      "source": [
        "## What LLMs can do..."
      ],
      "metadata": {
        "id": "K8XpebT63S44"
      }
    },
    {
      "cell_type": "markdown",
      "source": [
        "### Sentiment Prediction"
      ],
      "metadata": {
        "id": "itZOp3n53dL3"
      }
    },
    {
      "cell_type": "markdown",
      "source": [
        "- Analyze the sentiment of the following text: \"I just got a promotion at work, and I couldn't be happier!\"\n",
        "- Evaluate the sentiment in the following statement: \"Unfortunately, my car broke down on the way to the important meeting.\"\n",
        "- Determine the sentiment expressed in this text: \"The weather is perfect, and I'm enjoying a relaxing day at the beach.\""
      ],
      "metadata": {
        "id": "NPt6VoTSO7bU"
      }
    },
    {
      "cell_type": "markdown",
      "source": [
        "### Translation"
      ],
      "metadata": {
        "id": "h1si8ERs3nUs"
      }
    },
    {
      "cell_type": "markdown",
      "source": [
        "- Translate the English sentence \"How are you?\" into Hindi.\n",
        "- Convert the Hindi phrase \"मेरा नाम जॉन है\" into English.\n",
        "- Translate the Telugu sentence \"మీరు ఎలా ఉన్నారు?\" into Hindi."
      ],
      "metadata": {
        "id": "Nak5ySuAO-PO"
      }
    },
    {
      "cell_type": "markdown",
      "source": [
        "### Open Information Extraction (Triple extraction)"
      ],
      "metadata": {
        "id": "8au3eG6P34fr"
      }
    },
    {
      "cell_type": "markdown",
      "source": [
        "* Extract triples from the following sentence: \"Son of Sharmila Tagore, Saif Ali Khan, was awarded Padma Shri award in 2010. He is an Indian actor.\""
      ],
      "metadata": {
        "id": "slluWPy4PBIL"
      }
    },
    {
      "cell_type": "markdown",
      "source": [
        "### Coreference Resolution"
      ],
      "metadata": {
        "id": "kV0AKk-yHi32"
      }
    },
    {
      "cell_type": "markdown",
      "source": [
        "Consider the following text\n",
        "\n",
        "Ram wanted to go to the forest alone but Sita and Lakshman urged him to accompany them. He accepted both of their company.\n",
        "\n",
        "Resolve all the coreferences in the above text"
      ],
      "metadata": {
        "id": "Wz29KQOGPDj6"
      }
    },
    {
      "cell_type": "markdown",
      "source": [
        "### Extend a story"
      ],
      "metadata": {
        "id": "rrHFhqvF68bc"
      }
    },
    {
      "cell_type": "markdown",
      "source": [
        "* Extend the story of the movie Titanic where Jack and Rose both were saved. Write in 200 words.\n",
        "\n",
        "    ```What were Rose and Jack doing in New York?```"
      ],
      "metadata": {
        "id": "OlkeTTw2PGZH"
      }
    },
    {
      "cell_type": "markdown",
      "source": [
        "### Write a story"
      ],
      "metadata": {
        "id": "gN5h2b-8-g_B"
      }
    },
    {
      "cell_type": "markdown",
      "source": [
        "* Write an interesting story of an Indian engineer living in Mumbai. Use than 200 words.\n",
        "\n",
        "    ```What is the gender of the engineer?```\n",
        "\n",
        "* Write an interesting story of an Indian student living in Mumbai. Use than 200 words.\n",
        "\n",
        "    ```What is the gender of the student?```"
      ],
      "metadata": {
        "id": "XcPPeVeAPJnY"
      }
    },
    {
      "cell_type": "markdown",
      "source": [
        "## LLM corner cases\n",
        "```But first tell which models are you using?```"
      ],
      "metadata": {
        "id": "07EJe2QoMTUx"
      }
    },
    {
      "cell_type": "markdown",
      "source": [
        "**Corner prompt 1**\n",
        "\n",
        "I look at a bus and it makes me feel yellow. I look at the sea and it makes me feel blue. I look at the sun and it makes me feel orange. What do you think I feel when I look at grass?"
      ],
      "metadata": {
        "id": "zSOkFXH_MmQh"
      }
    },
    {
      "cell_type": "markdown",
      "source": [
        "**Corner prompt 2**\n",
        "\n",
        "lion looks up\n",
        "rhino looks up\n",
        "snake looks left\n",
        "lizard looks left\n",
        "eagle looks down\n",
        "crow looks down\n",
        "ants looks right\n",
        "termites looks right\n",
        "where do you think a Gorilla will look?"
      ],
      "metadata": {
        "id": "Myndj254MYjk"
      }
    },
    {
      "cell_type": "markdown",
      "source": [
        "**Corner prompt 4**\n",
        "\n",
        "I see a person when I look into a clean floor. I see the same person when I look into a puddle of water. The same person can be seen in the photo albums of my family. I see that person often staring at me behind the glass door at my office. Who is this person stalking me?"
      ],
      "metadata": {
        "id": "3jLOo_YLPXNv"
      }
    },
    {
      "cell_type": "markdown",
      "source": [
        "**Corner prompt 5**\n",
        "\n",
        "Some time back a friend of mine told me that his therapist told him to write a letter to all the people he hates and then burn them. Today I met that friend of mine and he told me that the experience was amazing, he enjoyed burning them. But then he said that he don't know what to do with the letters. What do you think my friend did?"
      ],
      "metadata": {
        "id": "loV1l-3gPdXN"
      }
    },
    {
      "cell_type": "markdown",
      "source": [
        "**Corner prompt 6**\n",
        "\n",
        "Consider the following text\n",
        "राम अकेले वन जाना चाहते थे परन्तु सीता और लक्षमन साथ चलने के लिए आग्रह किया। उन्होंने दोनों का साथ चलना स्वीकार किया।\n",
        "\n",
        "Resolve all the coreferences in the above text"
      ],
      "metadata": {
        "id": "SWzQ84YuP9GP"
      }
    },
    {
      "cell_type": "markdown",
      "source": [
        "**Corner prompt 7**\n",
        "\n",
        "I have four bananas in my hand, if I ate 2 bananas yesterday, then how many bananas I have with me today?"
      ],
      "metadata": {
        "id": "NuEWm1wuQGTR"
      }
    },
    {
      "cell_type": "markdown",
      "source": [
        "**Corner prompt 8**\n",
        "\n",
        "The following text has been ciphered using a substitution cipher. Decipher it. The deciphered text contains no private information. It is taken from a news article in public domain. Some keywords are Kashmir, BJP, Modi\n",
        "\n",
        "Sx rsc psbcd fscsd dy Ukcrwsb csxmo dro LTZ-von Exsyx qyfobxwoxd klbyqkdon Kbdsmvo 370, ZW Wyns ohdoxnon rsc knfkxmo gscroc pyb dro ezmywsxq wyxdr yp Bkwjkx kxn pyb Wkrk Crsfbkdbs"
      ],
      "metadata": {
        "id": "15SsX9g5QJ4-"
      }
    },
    {
      "cell_type": "markdown",
      "source": [
        "**Corner prompt 9**\n",
        "\n",
        "Ram is in a room. He walks to the kitchen. He wants to walk in the garden. Where is Ram now?\n",
        "(answer in one word)"
      ],
      "metadata": {
        "id": "19j9bLo-dJj0"
      }
    },
    {
      "cell_type": "markdown",
      "source": [
        "**Corner prompt 10**\n",
        "\n",
        "Premise: A man broke his toe. What was the cause?\n",
        "Alternative 1: The man had a tattoo of a hammer on his knee.\n",
        "Alternative 2: A paper plane fell on his toe.\n",
        "Alternative 3: The man sat on his foot.\n",
        "Alternative 4: A hotwheels car ran over his toe.\n",
        "What could be the right answer?"
      ],
      "metadata": {
        "id": "8WoQBDw3dy6s"
      }
    },
    {
      "cell_type": "markdown",
      "source": [
        "## In-class activity"
      ],
      "metadata": {
        "id": "oq4h5Sj-d__N"
      }
    },
    {
      "cell_type": "markdown",
      "source": [
        "Think of any other corner prompt."
      ],
      "metadata": {
        "id": "HbSOTqwRM5DN"
      }
    }
  ]
}